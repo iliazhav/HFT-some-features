{
 "cells": [
  {
   "cell_type": "code",
   "execution_count": null,
   "id": "429cbdbc-20a9-47f7-af95-d80674542152",
   "metadata": {},
   "outputs": [],
   "source": [
    "import pandas as pd\n",
    "import pathlib\n",
    "import psutil\n",
    "import pickle\n",
    "import numpy as np\n",
    "import os\n",
    "import gc\n",
    "    \n",
    "\n",
    "from tqdm.auto import tqdm\n",
    "from typing import List\n",
    "from datetime import datetime \n",
    "\n",
    "import matplotlib.pyplot as plt\n",
    "\n",
    "from ml_utils import vimba_level, vimba_up_level, book_depth, weighted_midprice, spread, count_trades\n",
    "\n",
    "pd.set_option('display.max_rows', 500)\n",
    "pd.set_option('display.max_columns', 500)\n",
    "pd.set_option('display.width', 1000)\n",
    "pd.set_option('display.float_format', lambda x: '%.5f' % x)"
   ]
  },
  {
   "cell_type": "code",
   "execution_count": null,
   "id": "53d806c9-8bde-4de4-a681-1f835f7cc04b",
   "metadata": {},
   "outputs": [],
   "source": [
    "%reload_ext autoreload\n",
    "%autoreload 2"
   ]
  },
  {
   "cell_type": "code",
   "execution_count": null,
   "id": "41c522a3-4101-4d87-9c84-7e315542ecf8",
   "metadata": {},
   "outputs": [],
   "source": [
    "MD_PATH = pathlib.Path(r\"C:\\Users\\Xiaomi\\Desktop\\cmf new bot\\New folder\\md2\")"
   ]
  },
  {
   "cell_type": "code",
   "execution_count": null,
   "id": "3e93ced5-fb5a-421e-b00c-b59c511fac95",
   "metadata": {},
   "outputs": [],
   "source": [
    "bbos = pd.read_parquet(MD_PATH / 'bbo_train.parquet')\n",
    "trades = pd.read_parquet(MD_PATH / 'trades_train.parquet')\n",
    "lobs = pd.read_parquet(MD_PATH / 'book_train.parquet')\n",
    "\n",
    "target = pd.read_parquet(MD_PATH / 'target_train.parquet')"
   ]
  },
  {
   "cell_type": "code",
   "execution_count": null,
   "id": "4b82f08b-cc78-46c5-a81a-82f0199359d9",
   "metadata": {},
   "outputs": [],
   "source": [
    "def calc_my_features(\n",
    "    bbos: pd.DataFrame,\n",
    "    lobs: pd.DataFrame,\n",
    "    trades: pd.DataFrame\n",
    "                 ) -> pd.DataFrame:\n",
    "        \n",
    "        spreads_df = spread(lobs)\n",
    "\n",
    "        w_midprice_df = weighted_midprice(lobs)\n",
    "\n",
    "        trades_up_1_sec_df = count_trades(trades, up_second=0.5)\n",
    "        #trades_up_3_sec_df = count_trades(trades, up_second=3)\n",
    "        #trades_up_10_sec_df = count_trades(trades, up_second=10)\n",
    "\n",
    "        vimba_up_3_level_df = vimba_up_level(lobs, up_level=3)\n",
    "        vimba_up_5_level_df = vimba_up_level(lobs, up_level=5)\n",
    "        vimba_up_10_level_df = vimba_up_level(lobs, up_level=9)\n",
    "\n",
    "        vimba_at_levels_df = vimba_level(lobs, levels=[0, 1, 2, 3])\n",
    "\n",
    "        bd_diff_np = book_depth(lobs, size=15, side='ask').values - book_depth(lobs, size=15, side='bid').values\n",
    "        bd_diff_df = pd.DataFrame({'book_depth_diff_15_btc': bd_diff_np}, index=lobs.index)\n",
    "        \n",
    "        return pd.concat([\n",
    "            spreads_df,\n",
    "            w_midprice_df,\n",
    "            trades_up_1_sec_df,\n",
    "            #trades_up_3_sec_df,\n",
    "            #trades_up_10_sec_df,\n",
    "            vimba_up_3_level_df,\n",
    "            vimba_up_5_level_df,\n",
    "            vimba_up_10_level_df,\n",
    "            vimba_at_levels_df,\n",
    "            bd_diff_df\n",
    "        ], axis=1).asof(bbos.index)"
   ]
  },
  {
   "cell_type": "code",
   "execution_count": null,
   "id": "45b1244f-156c-46da-8ab8-cc37236fcdfa",
   "metadata": {},
   "outputs": [],
   "source": [
    "features_df = calc_my_features(bbos=bbos, lobs=lobs, trades=trades)"
   ]
  },
  {
   "cell_type": "code",
   "execution_count": null,
   "id": "36d9eaaf",
   "metadata": {},
   "outputs": [],
   "source": [
    "features_df = features_df.iloc[1:]"
   ]
  },
  {
   "cell_type": "code",
   "execution_count": null,
   "id": "602338e1-b949-4e9a-a927-6ca06bcd3ead",
   "metadata": {},
   "outputs": [],
   "source": [
    "features_df.head(100)"
   ]
  },
  {
   "cell_type": "code",
   "execution_count": null,
   "id": "d2cd3fe7-2d25-4fe8-8b07-16f644b3cab7",
   "metadata": {},
   "outputs": [],
   "source": [
    "from catboost import CatBoostRegressor\n",
    "from sklearn.model_selection import train_test_split\n",
    "from sklearn.metrics import r2_score\n",
    "from catboost.utils import get_gpu_device_count"
   ]
  },
  {
   "cell_type": "code",
   "execution_count": null,
   "id": "41616a81-1a6c-4187-b754-63e1f6f60773",
   "metadata": {},
   "outputs": [],
   "source": [
    "device = 'GPU' if get_gpu_device_count() > 0 else 'CPU'"
   ]
  },
  {
   "cell_type": "code",
   "execution_count": null,
   "id": "eba40672-cefb-496e-8214-09b0f7b2cce3",
   "metadata": {},
   "outputs": [],
   "source": [
    "device"
   ]
  },
  {
   "cell_type": "code",
   "execution_count": null,
   "id": "dd818615-6556-42d3-89dd-90cbeef7174d",
   "metadata": {},
   "outputs": [],
   "source": [
    "model_params = {\n",
    "    'depth': 5,\n",
    "    'iterations': 1200,   \n",
    "    'thread_count': 13,\n",
    "    'learning_rate': 0.01,\n",
    "    'l2_leaf_reg': 50,\n",
    "\n",
    "    'task_type': device,\n",
    "    'eval_metric': 'R2',\n",
    "    \n",
    "    'use_best_model': True,\n",
    "    'silent': True,\n",
    "}"
   ]
  },
  {
   "cell_type": "markdown",
   "id": "ffc9debc-2307-4eef-a88c-8b27eb31cbda",
   "metadata": {},
   "source": [
    "#### Estimate quality of model "
   ]
  },
  {
   "cell_type": "code",
   "execution_count": null,
   "id": "a6bf32ba-441f-429f-a555-c60cd7cfc455",
   "metadata": {},
   "outputs": [],
   "source": [
    "model = CatBoostRegressor(**model_params)\n",
    "\n",
    "X_train, X_test, y_train, y_test = train_test_split(features_df, target, test_size=0.2, random_state=42, shuffle=False)\n",
    "\n",
    "# \n",
    "\n",
    "model.fit(X=X_train, y=y_train, eval_set=(X_test, y_test), plot=True)\n",
    "\n",
    "score = r2_score(y_test, model.predict(X_test))\n",
    "print(\"best_score:\", score)"
   ]
  },
  {
   "cell_type": "markdown",
   "id": "fa3b4110-b024-42e8-93bc-ba2ef2aa7510",
   "metadata": {},
   "source": [
    "#### Fit final model\n"
   ]
  },
  {
   "cell_type": "code",
   "execution_count": null,
   "id": "a0ba0089-4f01-4990-b417-12a5ce400187",
   "metadata": {},
   "outputs": [],
   "source": [
    "model_params['use_best_model'] = False\n",
    "\n",
    "model = CatBoostRegressor(**model_params)\n",
    "model.fit(X=features_df, y=target, plot=True)"
   ]
  },
  {
   "cell_type": "code",
   "execution_count": null,
   "id": "629a2e8e-6cef-4cc3-8692-0add74ad7b60",
   "metadata": {},
   "outputs": [],
   "source": [
    "model.save_model('model_baseline.cbm')"
   ]
  },
  {
   "cell_type": "code",
   "execution_count": null,
   "id": "6fc5e4be-4613-4bec-94d1-4bbfcc604b3d",
   "metadata": {},
   "outputs": [],
   "source": [
    "loaded_model = CatBoostRegressor()\n",
    "loaded_model.load_model('model_baseline.cbm')"
   ]
  },
  {
   "cell_type": "code",
   "execution_count": null,
   "id": "1008fd5e-e538-4d8a-b11b-57087ab7664b",
   "metadata": {},
   "outputs": [],
   "source": [
    "pd.Series(loaded_model.predict(features_df))"
   ]
  },
  {
   "cell_type": "code",
   "execution_count": null,
   "id": "819417e3-92b7-45c5-9026-f1fa95646f18",
   "metadata": {},
   "outputs": [],
   "source": [
    "feature_importances = model.get_feature_importance(type='PredictionValuesChange')"
   ]
  },
  {
   "cell_type": "code",
   "execution_count": null,
   "id": "b7c1dc51-f670-4fdb-b5e6-da3897a40ddf",
   "metadata": {},
   "outputs": [],
   "source": [
    "plt.figure(figsize=(10, 6))\n",
    "plt.barh(range(len(X_train.columns)), feature_importances, color='skyblue')\n",
    "plt.yticks(range(len(X_train.columns)), X_train.columns)\n",
    "plt.xlabel('Importance')\n",
    "plt.ylabel('Feature')\n",
    "plt.title('Feature Importance')\n",
    "plt.show()"
   ]
  }
 ],
 "metadata": {
  "kernelspec": {
   "display_name": "Python 3 (ipykernel)",
   "language": "python",
   "name": "python3"
  },
  "language_info": {
   "codemirror_mode": {
    "name": "ipython",
    "version": 3
   },
   "file_extension": ".py",
   "mimetype": "text/x-python",
   "name": "python",
   "nbconvert_exporter": "python",
   "pygments_lexer": "ipython3",
   "version": "3.8.1"
  }
 },
 "nbformat": 4,
 "nbformat_minor": 5
}
